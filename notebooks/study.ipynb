{
 "cells": [
  {
   "cell_type": "code",
   "execution_count": 1,
   "metadata": {},
   "outputs": [],
   "source": [
    "import os\n",
    "import logging\n",
    "from datetime import datetime\n",
    "from openbb import obb\n",
    "import pandas as pd\n"
   ]
  },
  {
   "cell_type": "code",
   "execution_count": null,
   "metadata": {},
   "outputs": [],
   "source": [
    "# Configure logging\n",
    "logging.basicConfig(level=logging.INFO)\n",
    "logger = logging.getLogger(__name__)\n",
    "\n",
    "# Set your OpenBB API key\n",
    "obb.account.login(pat=openbb_api_key)\n",
    "obb.user.preferences.output_type = \"dataframe\""
   ]
  },
  {
   "cell_type": "code",
   "execution_count": null,
   "metadata": {},
   "outputs": [],
   "source": [
    "def fetch_data(ticker, start_date, end_date, interval, provider):\n",
    "    logger.info(f\"Fetching data for {ticker} from {start_date} to {end_date}\")\n",
    "    data = obb.equity.price.historical(\n",
    "        symbol=ticker,\n",
    "        start_date=start_date,\n",
    "        end_date=end_date,\n",
    "        interval=interval,\n",
    "        provider=provider,\n",
    "    )\n",
    "    logger.info(f\"Fetched data head:\\n{data.head()}\")\n",
    "    logger.info(f\"Fetched data tail:\\n{data.tail()}\")\n",
    "    return data"
   ]
  }
 ],
 "metadata": {
  "kernelspec": {
   "display_name": "venv",
   "language": "python",
   "name": "python3"
  },
  "language_info": {
   "codemirror_mode": {
    "name": "ipython",
    "version": 3
   },
   "file_extension": ".py",
   "mimetype": "text/x-python",
   "name": "python",
   "nbconvert_exporter": "python",
   "pygments_lexer": "ipython3",
   "version": "3.10.4"
  }
 },
 "nbformat": 4,
 "nbformat_minor": 2
}
